{
 "cells": [
  {
   "cell_type": "code",
   "execution_count": null,
   "id": "892c30b0",
   "metadata": {},
   "outputs": [],
   "source": [
    "import random\n",
    "sujeto = [\"La vaca\", \"La gallina\", \"La oveja\", \"La iguana\", \"La hormiga\", \"La mariposa\"]\n",
    "accion = [\"salta\", \"come\", \"duerme\", \"canta\", \"baila\", \"juega\"]\n",
    "complemento = [\"todos los dias\", \"hasta que sale el sol\", \"con muchas ganas\"]\n",
    "frase = sujeto[0] + ' ' + accion[0] + ' ' + complemento[0]\n",
    "\n",
    "lines = 4\n",
    "line = 0\n",
    "paragraph = ''\n",
    "while line < lines:\n",
    "    x_1 = random.randint(0, len(sujeto)-1)\n",
    "    x_2 = random.randint(0, len(accion)-1)\n",
    "    x_3 = random.randint(0, len(complemento)-1)\n",
    "    paragraph += '\\n' + sujeto[x_1] + ' ' + accion[x_2] + ' ' + complemento[x_3]\n",
    "    line += 1\n",
    "\n",
    "print(paragraph)"
   ]
  }
 ],
 "metadata": {
  "kernelspec": {
   "display_name": "Python 3 (ipykernel)",
   "language": "python",
   "name": "python3"
  },
  "language_info": {
   "codemirror_mode": {
    "name": "ipython",
    "version": 3
   },
   "file_extension": ".py",
   "mimetype": "text/x-python",
   "name": "python",
   "nbconvert_exporter": "python",
   "pygments_lexer": "ipython3",
   "version": "3.9.12"
  }
 },
 "nbformat": 4,
 "nbformat_minor": 5
}
